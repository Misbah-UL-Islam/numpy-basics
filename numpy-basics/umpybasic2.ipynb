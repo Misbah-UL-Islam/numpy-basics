{
 "cells": [
  {
   "cell_type": "raw",
   "id": "9aab5562-7a38-49d3-a2c7-44f67434e565",
   "metadata": {},
   "source": []
  },
  {
   "cell_type": "code",
   "execution_count": 3,
   "id": "0b1e0336-a05b-4402-ab98-a4c49e2aa35a",
   "metadata": {},
   "outputs": [
    {
     "name": "stdout",
     "output_type": "stream",
     "text": [
      "[[1]\n",
      " [2]\n",
      " [3]\n",
      " [4]\n",
      " [6]\n",
      " [5]]\n"
     ]
    }
   ],
   "source": [
    "import numpy as np\n",
    "arr3 = np.array([1,2,3,4,6,5,7,8,9,10,11,12])\n",
    "new_arr3 = arr3.reshape(6,1)\n",
    "print(new_arr3)"
   ]
  },
  {
   "cell_type": "code",
   "execution_count": 7,
   "id": "12991cf3-61fc-46bd-9914-6c4680219795",
   "metadata": {},
   "outputs": [
    {
     "name": "stdout",
     "output_type": "stream",
     "text": [
      "<built-in method copy of numpy.ndarray object at 0x000001F6B827E130>\n"
     ]
    }
   ],
   "source": [
    "import numpy as nm\n",
    "arr = np.array([1,2,3,4,5,6,7,8])\n",
    "print(arr.reshape(2,4).copy)"
   ]
  },
  {
   "cell_type": "code",
   "execution_count": 6,
   "id": "e74394d0-5c4c-4821-b08e-5755f31777b6",
   "metadata": {},
   "outputs": [
    {
     "ename": "NameError",
     "evalue": "name 'ar' is not defined",
     "output_type": "error",
     "traceback": [
      "\u001b[1;31m---------------------------------------------------------------------------\u001b[0m",
      "\u001b[1;31mNameError\u001b[0m                                 Traceback (most recent call last)",
      "Cell \u001b[1;32mIn[6], line 1\u001b[0m\n\u001b[1;32m----> 1\u001b[0m arr \u001b[38;5;241m=\u001b[39m  ar\u001b[38;5;241m.\u001b[39mcopy\n\u001b[0;32m      2\u001b[0m arr\n",
      "\u001b[1;31mNameError\u001b[0m: name 'ar' is not defined"
     ]
    }
   ],
   "source": [
    "\n"
   ]
  },
  {
   "cell_type": "code",
   "execution_count": null,
   "id": "b3f454c4-c293-42d5-b41f-759b11494ef9",
   "metadata": {},
   "outputs": [],
   "source": [
    "length=0\n",
    "    alternating_array = []\n",
    "    for i in range(length):\n",
    "        \n",
    "        alternating_array.append((-1)**i * (i + 1))\n",
    "    print(alternating_array)\n",
    "\n",
    "\n",
    "n = 10\n",
    "\n",
    "\n",
    "result = create_alternating_array(n)\n",
    "\n",
    "\n",
    "print(result)\n"
   ]
  },
  {
   "cell_type": "code",
   "execution_count": 12,
   "id": "205eddb8-f3f9-48f5-bf0d-82f8ba1453b0",
   "metadata": {},
   "outputs": [
    {
     "name": "stdout",
     "output_type": "stream",
     "text": [
      "1\n",
      "2\n",
      "3\n",
      "1\n",
      "2\n",
      "3\n"
     ]
    }
   ],
   "source": [
    "import numpy as np\n",
    "arr = np.array([[1,2,3,],[1,2,3]])\n",
    "for x in arr:\n",
    "    for y in x:\n",
    "        print(y)"
   ]
  },
  {
   "cell_type": "code",
   "execution_count": null,
   "id": "c409278c-7f68-4f9d-896d-631b4014a995",
   "metadata": {},
   "outputs": [],
   "source": []
  },
  {
   "cell_type": "code",
   "execution_count": 25,
   "id": "fe636e1f-5b2d-423e-8110-682115e471f4",
   "metadata": {},
   "outputs": [
    {
     "data": {
      "text/plain": [
       "array([[1, 2, 5, 6],\n",
       "       [3, 4, 7, 8]])"
      ]
     },
     "execution_count": 25,
     "metadata": {},
     "output_type": "execute_result"
    }
   ],
   "source": [
    "import numpy as np\n",
    "\n",
    "\n",
    "array1 = np.array([[1, 2], [3,4]])\n",
    "array2 = np.array([[5, 6], [7,8]])\n",
    "\n",
    "arr = np.concatenate((array1,array2) , axis = 1)\n",
    "arr\n",
    "\n"
   ]
  },
  {
   "cell_type": "code",
   "execution_count": 18,
   "id": "fa76d681-f544-4bce-b552-c0b8fda163e1",
   "metadata": {},
   "outputs": [
    {
     "name": "stdout",
     "output_type": "stream",
     "text": [
      "Added Array: [5 7 9]\n"
     ]
    }
   ],
   "source": [
    "\n",
    "array1 = np.array([1, 2], [3,4])\n",
    "array2 = np.array([5, 6],)\n",
    "\n",
    "\n",
    "added_array = array1 + array2\n",
    "print(\"Added Array:\", added_array)"
   ]
  },
  {
   "cell_type": "code",
   "execution_count": 27,
   "id": "d971efd1-700e-449e-bdd4-f6c970a197d2",
   "metadata": {},
   "outputs": [
    {
     "name": "stdout",
     "output_type": "stream",
     "text": [
      "[9 8 6 5 5 2 1]\n"
     ]
    }
   ],
   "source": [
    "import numpy as np\n",
    "\n",
    "\n",
    "arr = np.array([5, 2, 9,8, 1, 5, 6])\n",
    "\n",
    "\n",
    "sorted_arr = np.sort(arr)[::-1]\n",
    "\n",
    "print(sorted_arr)\n"
   ]
  },
  {
   "cell_type": "code",
   "execution_count": 28,
   "id": "530654bd-72c6-4c51-8a86-c3af7c5fe43b",
   "metadata": {},
   "outputs": [
    {
     "name": "stdout",
     "output_type": "stream",
     "text": [
      "[9 6 5 5 4 3 2 1 1]\n"
     ]
    }
   ],
   "source": [
    "import numpy as np\n",
    "array = np.array([3, 1, 4, 1, 5, 9, 2, 6, 5])\n",
    "sorted_array = np.sort(array)\n",
    "descending_array = np.flip(sorted_array)\n",
    "print(descending_array)\n"
   ]
  },
  {
   "cell_type": "code",
   "execution_count": 34,
   "id": "a3ae2c36-8e24-4888-9dcf-ebcf61e6e6e0",
   "metadata": {},
   "outputs": [
    {
     "data": {
      "text/plain": [
       "array(['Apple', 'Cherry', 'banana'], dtype='<U6')"
      ]
     },
     "execution_count": 34,
     "metadata": {},
     "output_type": "execute_result"
    }
   ],
   "source": [
    "import numpy as nm\n",
    "arr9 = (['banana','Cherry','Apple'])\n",
    "arr9 = np.sort(arr9)\n",
    "arr9"
   ]
  },
  {
   "cell_type": "code",
   "execution_count": null,
   "id": "4f42947d-b1fd-4f44-82ef-324230d5dd05",
   "metadata": {},
   "outputs": [],
   "source": [
    "arr8 = np.([41,43,42,44])\n",
    "c = [True,True,False,True]"
   ]
  },
  {
   "cell_type": "code",
   "execution_count": 46,
   "id": "90b0dff1-e006-406a-874b-5ea99dd3368c",
   "metadata": {},
   "outputs": [
    {
     "ename": "NameError",
     "evalue": "name 'd' is not defined",
     "output_type": "error",
     "traceback": [
      "\u001b[1;31m---------------------------------------------------------------------------\u001b[0m",
      "\u001b[1;31mNameError\u001b[0m                                 Traceback (most recent call last)",
      "Cell \u001b[1;32mIn[46], line 4\u001b[0m\n\u001b[0;32m      1\u001b[0m arr8 \u001b[38;5;241m=\u001b[39m np\u001b[38;5;241m.\u001b[39marray([\u001b[38;5;241m1\u001b[39m,\u001b[38;5;241m2\u001b[39m,\u001b[38;5;241m3\u001b[39m,\u001b[38;5;241m4\u001b[39m,\u001b[38;5;241m5\u001b[39m,\u001b[38;5;241m6\u001b[39m,\u001b[38;5;241m7\u001b[39m,\u001b[38;5;241m8\u001b[39m,\u001b[38;5;241m9\u001b[39m])\n\u001b[0;32m      3\u001b[0m \u001b[38;5;28;01mfor\u001b[39;00m i \u001b[38;5;129;01min\u001b[39;00m arr8:\n\u001b[1;32m----> 4\u001b[0m     \u001b[38;5;28;01mif\u001b[39;00m d \u001b[38;5;241m==\u001b[39m arr8[i]\u001b[38;5;241m%\u001b[39m\u001b[38;5;241m2\u001b[39m \u001b[38;5;241m==\u001b[39m \u001b[38;5;241m0\u001b[39m:\n\u001b[0;32m      5\u001b[0m         d \u001b[38;5;241m==\u001b[39m \u001b[38;5;28;01mTrue\u001b[39;00m\n\u001b[0;32m      7\u001b[0m     \u001b[38;5;28;01melse\u001b[39;00m:\n",
      "\u001b[1;31mNameError\u001b[0m: name 'd' is not defined"
     ]
    }
   ],
   "source": [
    "arr8 = np.array([1,2,3,4,5,6,7,8,9])\n",
    "\n",
    "for i in arr8:\n",
    "    if d == arr8[i]%2 == 0:\n",
    "        d == True\n",
    "    \n",
    "    else:\n",
    "        d = arr8[i]%2 != 0\n",
    "        d == False\n",
    "\n",
    "    print(i)\n",
    "\n",
    "\n"
   ]
  },
  {
   "cell_type": "code",
   "execution_count": 47,
   "id": "2fdf6a21-297c-47b4-8c64-9a12a91d95ec",
   "metadata": {},
   "outputs": [
    {
     "name": "stdout",
     "output_type": "stream",
     "text": [
      "2\n",
      "4\n",
      "6\n",
      "8\n"
     ]
    }
   ],
   "source": [
    "import numpy as np\n",
    "\n",
    "arr8 = np.array([1, 2, 3, 4, 5, 6, 7, 8, 9])\n",
    "\n",
    "for i in arr8:\n",
    "    if i % 2 == 0:\n",
    "        d = True\n",
    "        print(i)\n",
    "    else:\n",
    "        d = False\n"
   ]
  },
  {
   "cell_type": "code",
   "execution_count": null,
   "id": "50e7146d-d29f-415e-b839-676946613f4e",
   "metadata": {},
   "outputs": [],
   "source": []
  }
 ],
 "metadata": {
  "kernelspec": {
   "display_name": "Python 3 (ipykernel)",
   "language": "python",
   "name": "python3"
  },
  "language_info": {
   "codemirror_mode": {
    "name": "ipython",
    "version": 3
   },
   "file_extension": ".py",
   "mimetype": "text/x-python",
   "name": "python",
   "nbconvert_exporter": "python",
   "pygments_lexer": "ipython3",
   "version": "3.12.4"
  }
 },
 "nbformat": 4,
 "nbformat_minor": 5
}
