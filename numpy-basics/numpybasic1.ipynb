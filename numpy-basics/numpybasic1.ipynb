{
 "cells": [
  {
   "cell_type": "code",
   "execution_count": 1,
   "id": "34614330-e079-4b17-8c1c-971735b8bf3c",
   "metadata": {},
   "outputs": [
    {
     "name": "stdout",
     "output_type": "stream",
     "text": [
      "<class 'numpy.ndarray'>\n",
      "<class 'numpy.ndarray'>\n",
      "<class 'numpy.ndarray'>\n"
     ]
    }
   ],
   "source": [
    "import numpy as np #checking data type of the arrays.\n",
    "\n",
    "arr1 = np.array([1,2,3,4,5])\n",
    "arr2 = np.array((1,2,3,4,5))\n",
    "arr3 = np.array({1,2,3,4,5})\n",
    "\n",
    "print(type(arr1))\n",
    "print(type(arr2))\n",
    "print(type(arr3))"
   ]
  },
  {
   "cell_type": "code",
   "execution_count": 4,
   "id": "be974a9a-9970-4e45-87f2-d9680c697ef5",
   "metadata": {},
   "outputs": [
    {
     "name": "stdout",
     "output_type": "stream",
     "text": [
      "[[1 2]\n",
      " [3 4]\n",
      " [5 6]\n",
      " [7 8]\n",
      " [9 8]]\n"
     ]
    }
   ],
   "source": [
    "import numpy as np\n",
    "arr = np.array([[1,2],[3,4],[5,6],[7,8],[9,8]])\n",
    "print(arr)"
   ]
  },
  {
   "cell_type": "code",
   "execution_count": 5,
   "id": "847fe023-1764-4f4c-9b9c-4c7017e667a0",
   "metadata": {},
   "outputs": [
    {
     "name": "stdout",
     "output_type": "stream",
     "text": [
      "Element at row 1, column 2: 6\n",
      "Element at row 0, column 1: 2\n",
      "Row 2: [7 8 9]\n",
      "Column 1: [2 5 8]\n"
     ]
    }
   ],
   "source": [
    "# Create a 2-D array (matrix)\n",
    "array_2d = np.array([[1, 2, 3], [4, 5, 6], [7, 8, 9]])\n",
    "\n",
    "# Access elements using row and column indices\n",
    "print(\"Element at row 1, column 2:\", array_2d[1, 2])  # Outputs 6\n",
    "print(\"Element at row 0, column 1:\", array_2d[0, 1])  # Outputs 2\n",
    "\n",
    "# Access an entire row\n",
    "print(\"Row 2:\", array_2d[2])  # Outputs [7 8 9]\n",
    "\n",
    "# Access an entire column\n",
    "print(\"Column 1:\", array_2d[:, 1])  # Outputs [2 5 8]\n"
   ]
  },
  {
   "cell_type": "code",
   "execution_count": null,
   "id": "2c8bc74e-0fb6-490c-a618-ba750357f359",
   "metadata": {},
   "outputs": [],
   "source": [
    "# Create a 3-D array\n",
    "array_3d = np.array([\n",
    "    [[1, 2], [3, 4]],  # First 2D slice\n",
    "    [[5, 6], [7, 8]],  # Second 2D slice\n",
    "    [[9, 10], [11, 12]]  # Third 2D slice\n",
    "])\n",
    "\n",
    "# Access elements using depth, row, and column indices\n",
    "print(\"Element at [1, 0, 1]:\", array_3d[1, 0, 1])  # Outputs 6\n",
    "\n",
    "# Access an entire 2D slice\n",
    "print(\"Slice at depth 2:\")\n",
    "print(array_3d[2])  # Outputs [[ 9 10]\n",
    "                    #          [11 12]]\n",
    "\n",
    "# Access an entire row from a specific 2D slice\n",
    "print(\"Row 1 from the slice at depth 1:\")\n",
    "print(array_3d[1, 1])  # Outputs [7 8]\n",
    "\n",
    "# Accessing all elements in a specific column across all 2D arrays\n",
    "print(\"Column 0 across all 2D arrays:\")\n",
    "print(array_3d[:, :, 0])  # Outputs [[ 1  3]\n",
    "                           #          [ 5  7]\n",
    "                           #          [ 9 11]]\n"
   ]
  },
  {
   "cell_type": "code",
   "execution_count": 8,
   "id": "93804c5a-79c0-4db7-a870-2ad6b88db9d9",
   "metadata": {},
   "outputs": [
    {
     "name": "stdout",
     "output_type": "stream",
     "text": [
      "sum of 3rd and 4rth elements are:  13\n",
      "power of second element is  46656\n",
      "sqrt of 3rd element is  2.6457513110645907\n"
     ]
    }
   ],
   "source": [
    "import numpy as np\n",
    "arr7 = np.array([4,5,6,7,8,9])\n",
    "a = arr7[2]\n",
    "b = arr7[3]\n",
    "\n",
    "c = a+b\n",
    "d = a**6\n",
    "e = np.sqrt(b)\n",
    "\n",
    "print(\"sum of 3rd and 4rth elements are: \",c)\n",
    "print(\"power of second element is \",d)\n",
    "print(\"sqrt of 3rd element is \",e)"
   ]
  },
  {
   "cell_type": "code",
   "execution_count": 11,
   "id": "42e1d5a6-39de-4c3c-aa4b-1b6070aad794",
   "metadata": {},
   "outputs": [
    {
     "name": "stdout",
     "output_type": "stream",
     "text": [
      "Sliced 1-D Array (index 1 to 3): [20 30 40]\n"
     ]
    }
   ],
   "source": [
    "import numpy as np\n",
    "\n",
    "# Create a 1-D array\n",
    "array_1d = np.array([10, 20, 30, 40, 50])\n",
    "\n",
    "# Slice the array\n",
    "slice_1d = array_1d[-4:-1]  # Elements from index 1 to 3\n",
    "print(\"Sliced 1-D Array (index 1 to 3):\", slice_1d)  # Outputs [20 30 40]\n"
   ]
  },
  {
   "cell_type": "code",
   "execution_count": 14,
   "id": "55f2496a-f7d9-49d6-951b-aaea90e7ab24",
   "metadata": {},
   "outputs": [
    {
     "name": "stdout",
     "output_type": "stream",
     "text": [
      "[8]\n"
     ]
    }
   ],
   "source": [
    "import numpy as np\n",
    "arr = np.array([[[1, 2], [3, 4]],[[5, 6], [7, 8]],[[9, 10], [11, 12]]])\n",
    "print(arr[1, 1,1:3])"
   ]
  },
  {
   "cell_type": "code",
   "execution_count": 31,
   "id": "7c0de7cf-a013-4686-9551-78eaa4c1a401",
   "metadata": {},
   "outputs": [
    {
     "name": "stdout",
     "output_type": "stream",
     "text": [
      "[6 1 2 3 4 5]\n"
     ]
    },
    {
     "data": {
      "text/plain": [
       "dtype('int64')"
      ]
     },
     "execution_count": 31,
     "metadata": {},
     "output_type": "execute_result"
    }
   ],
   "source": [
    "import numpy as np\n",
    "arr = np.array([a,1.4,2.6,3.6,4.6,5.6] , dtype = 'i8')\n",
    "print(arr)\n",
    "arr.dtype"
   ]
  },
  {
   "cell_type": "code",
   "execution_count": null,
   "id": "218538d7-3e94-4ec7-bd00-19983c92e388",
   "metadata": {},
   "outputs": [],
   "source": []
  }
 ],
 "metadata": {
  "kernelspec": {
   "display_name": "Python 3 (ipykernel)",
   "language": "python",
   "name": "python3"
  },
  "language_info": {
   "codemirror_mode": {
    "name": "ipython",
    "version": 3
   },
   "file_extension": ".py",
   "mimetype": "text/x-python",
   "name": "python",
   "nbconvert_exporter": "python",
   "pygments_lexer": "ipython3",
   "version": "3.12.4"
  }
 },
 "nbformat": 4,
 "nbformat_minor": 5
}
